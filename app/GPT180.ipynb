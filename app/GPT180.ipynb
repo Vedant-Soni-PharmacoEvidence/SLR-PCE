{
 "cells": [
  {
   "cell_type": "code",
   "execution_count": 29,
   "metadata": {},
   "outputs": [
    {
     "name": "stdout",
     "output_type": "stream",
     "text": [
      "The document is about a mathematical framework for artificial neural networks.\n",
      "\n",
      "Decision: Excluded.\n",
      "\n",
      "Reason: The study design is a theoretical and mathematical development of neural network formalization, not a randomized controlled trial (RCT). Additionally, the population and condition criteria related to post-traumatic stress disorder and specific medications are not applicable to this theoretical work.\n"
     ]
    }
   ],
   "source": [
    "import openai\n",
    "from openai import AzureOpenAI\n",
    "import fitz\n",
    "\n",
    "# Extract text from PDF file using fitz\n",
    "def extract_text_from_pdf(pdf_path):\n",
    "    text = \"\"\n",
    "    with fitz.open(pdf_path) as doc:\n",
    "        for page in doc:\n",
    "            text += page.get_text()\n",
    "    return text\n",
    "\n",
    "# Path to your PDF file\n",
    "pdf_path = 'paper.pdf'\n",
    "\n",
    "# Extracted text from PDF\n",
    "pdf_text = extract_text_from_pdf(pdf_path)\n",
    "\n",
    "\n",
    "# Your message text\n",
    "message_text ={\n",
    "    \"role\":\"system\",\n",
    "\"content\": '''\n",
    "    You are an expert systematic literature reviewer. This is the Full Text Screening phase. You have to analyze the entire document provided to you. Based on the below exclusion and inclusion criteria, please classify the given citation as 'Included' or 'Excluded'. Apply the Exclusion Criteria first. If any statement in the Exclusion Criteria is true, mark the citation as 'Excluded'. If the citation passes the Exclusion Criteria, then check the Inclusion Criteria. Mark the citation as 'Included' only if it strictly and exactly passes all Inclusion Criteria statements; otherwise, mark the citation as 'Excluded'. \n",
    "\n",
    "    Inclusion Criteria:\n",
    "    1. Study Design: Only randomized controlled trials (RCTs) are included. No other study design is acceptable.\n",
    "    2. Condition: The study must explicitly mention 'post-traumatic stress disorder'.\n",
    "    3. Medications: Include studies that primarily investigate the utilization of the following medications: sertraline, 'sertraline plus brexpiprazole', fluoxetine, paroxetine, and venlafaxine. These medications are permissible for use either as standalone treatments (monotherapy) or in combination therapy. However, in cases of combination therapy, it is imperative that the combination exclusively involves the aforementioned medications.\n",
    "    4. Population: The study must involve adult patients aged 18 years and older.\n",
    "    5. If the trial is assessing more than two interventions in different arms of the randomized control trial, at least two interventions should be from sertraline, 'sertraline plus brexpiprazole', fluoxetine, paroxetine, and venlafaxine\n",
    "\n",
    "    Exclusion Criteria:\n",
    "    1. Study Type: Literature reviews, meta-analyses, systematic reviews, review, narrative review, observational studies (including retrospective, case-control, cohort studies, pharmacokinetic, pharmacodynamics study, cost-effectiveness, economic evaluation studies, longitudinal studies, and cross-sectional studies).\n",
    "    2. Population: Studies exclusively involving animals, adolescents, children, or populations other than those with post-traumatic stress disorder.\n",
    "    3. Medications: Exclude studies that do not primarily investigate the utilization of the following medications: sertraline, 'sertraline plus brexpiprazole', fluoxetine, paroxetine, and venlafaxine. These medications are permissible for use either as standalone treatments (monotherapy) or in combination therapy. However, in cases of combination therapy, it is imperative that the combination exclusively involves the aforementioned medications.\n",
    "    4. Strictly mark the citation as excluded if it mentions review or pooled analysis which includes data from more than one study.\n",
    "    5. If the study design is not clearly randomized controlled trials (RCTs) then exclude the study.\n",
    "    \n",
    "    in response return what the document is all about in 10-15 words and your decision with breif reason (study design, population) why you took this decision\n",
    "    '''\n",
    "}\n",
    "# Combine message text with PDF text\n",
    "combined_text = [{\"role\": \"system\", \"content\": pdf_text},message_text]\n",
    "\n",
    "# Send combined text to OpenAI API\n",
    "client = AzureOpenAI(\n",
    "    azure_endpoint = \"https://pcefrance.openai.azure.com/\",\n",
    "    api_key=\"668a69822708413e90117aea513b8dda\",\n",
    "    api_version=\"2024-02-15-preview\")\n",
    "\n",
    "\n",
    "completion = client.chat.completions.create(\n",
    "    model=\"GPT180\",\n",
    "    messages = combined_text,  \n",
    "    temperature=0.7,\n",
    "    max_tokens=800,\n",
    "    top_p=0.95,\n",
    "    frequency_penalty=0,\n",
    "    presence_penalty=0,\n",
    "    stop=None)\n",
    "\n",
    "print(completion.choices[0].message.content)\n"
   ]
  },
  {
   "cell_type": "code",
   "execution_count": null,
   "metadata": {},
   "outputs": [],
   "source": []
  }
 ],
 "metadata": {
  "kernelspec": {
   "display_name": "SLR",
   "language": "python",
   "name": "python3"
  },
  "language_info": {
   "codemirror_mode": {
    "name": "ipython",
    "version": 3
   },
   "file_extension": ".py",
   "mimetype": "text/x-python",
   "name": "python",
   "nbconvert_exporter": "python",
   "pygments_lexer": "ipython3",
   "version": "3.10.13"
  }
 },
 "nbformat": 4,
 "nbformat_minor": 2
}
